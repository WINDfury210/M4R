{
 "cells": [
  {
   "cell_type": "code",
   "execution_count": 1,
   "metadata": {},
   "outputs": [],
   "source": [
    "import torch\n",
    "import torch.nn as nn\n",
    "import torch.optim as optim\n",
    "import numpy as np\n",
    "import matplotlib.pyplot as plt\n",
    "from tqdm import tqdm"
   ]
  },
  {
   "cell_type": "code",
   "execution_count": 2,
   "metadata": {},
   "outputs": [],
   "source": [
    "class ConditionalDiffusionModel(nn.Module):\n",
    "    def __init__(self, input_dim, condition_dim, hidden_dim=128):\n",
    "        super().__init__()\n",
    "        self.fc1 = nn.Linear(input_dim + condition_dim, hidden_dim)\n",
    "        self.fc2 = nn.Linear(hidden_dim, hidden_dim)\n",
    "        self.fc3 = nn.Linear(hidden_dim, input_dim)\n",
    "\n",
    "    def forward(self, x, condition):\n",
    "        x = torch.cat([x, condition], dim=-1)\n",
    "        x = torch.relu(self.fc1(x))\n",
    "        x = torch.relu(self.fc2(x))\n",
    "        return self.fc3(x)\n",
    "\n",
    "def add_noise(x, t, num_timesteps):\n",
    "    alpha = 1 - t / num_timesteps\n",
    "    noise = torch.randn_like(x)\n",
    "    noisy_x = torch.sqrt(alpha) * x + torch.sqrt(1 - alpha) * noise\n",
    "    return noisy_x, noise"
   ]
  },
  {
   "cell_type": "code",
   "execution_count": 3,
   "metadata": {},
   "outputs": [],
   "source": [
    "def train(model, dataloader, optimizer, device, num_timesteps=100, num_epochs=10):\n",
    "    model.train()\n",
    "    for epoch in range(num_epochs):\n",
    "        total_loss = 0\n",
    "        for x, condition in dataloader:\n",
    "            x = x.to(device)\n",
    "            condition = condition.to(device)\n",
    "            optimizer.zero_grad()\n",
    "            t = torch.randint(0, num_timesteps, (x.size(0),), device=device)\n",
    "            noisy_x, noise = add_noise(x, t, num_timesteps)\n",
    "            pred_noise = model(noisy_x, condition)\n",
    "            loss = nn.functional.mse_loss(pred_noise, noise)\n",
    "            loss.backward()\n",
    "            optimizer.step()\n",
    "            total_loss += loss.item()\n",
    "        print(f\"Epoch [{epoch+1}/{num_epochs}], Loss: {total_loss / len(dataloader):.4f}\")"
   ]
  },
  {
   "cell_type": "code",
   "execution_count": 4,
   "metadata": {},
   "outputs": [],
   "source": [
    "def generate_samples(model, device, condition, num_samples=1000, num_timesteps=100):\n",
    "    model.eval()\n",
    "    with torch.no_grad():\n",
    "        x = torch.randn(num_samples, 2, device=device)\n",
    "        condition = condition.to(device).unsqueeze(0).repeat(num_samples, 1)\n",
    "        for t in reversed(range(num_timesteps)):\n",
    "            t_tensor = torch.full((num_samples,), t, device=device, dtype=torch.long)\n",
    "            pred_noise = model(x, condition)\n",
    "            alpha = 1 - t / num_timesteps\n",
    "            x = (x - torch.sqrt(1 - alpha) * pred_noise) / torch.sqrt(alpha)\n",
    "    return x.cpu().numpy()"
   ]
  },
  {
   "cell_type": "code",
   "execution_count": 5,
   "metadata": {},
   "outputs": [],
   "source": [
    "means = [\n",
    "    np.array([4, 4]),\n",
    "    np.array([-3, 3]),\n",
    "    np.array([-5, -2]),\n",
    "    np.array([6, -1])\n",
    "]\n",
    "\n",
    "covariances = [\n",
    "    np.array([[2, 1], [1, 2]]),\n",
    "    np.array([[1, -0.5], [-0.5, 1]]),\n",
    "    np.array([[0.5, 0], [0, 0.5]]),\n",
    "    np.array([[3, 0.8], [0.8, 3]])\n",
    "]"
   ]
  },
  {
   "cell_type": "code",
   "execution_count": 6,
   "metadata": {},
   "outputs": [
    {
     "ename": "RuntimeError",
     "evalue": "The size of tensor a (128) must match the size of tensor b (2) at non-singleton dimension 1",
     "output_type": "error",
     "traceback": [
      "\u001b[0;31m---------------------------------------------------------------------------\u001b[0m",
      "\u001b[0;31mRuntimeError\u001b[0m                              Traceback (most recent call last)",
      "Cell \u001b[0;32mIn[6], line 28\u001b[0m\n\u001b[1;32m     25\u001b[0m model \u001b[38;5;241m=\u001b[39m ConditionalDiffusionModel(input_dim\u001b[38;5;241m=\u001b[39m\u001b[38;5;241m2\u001b[39m, condition_dim\u001b[38;5;241m=\u001b[39m\u001b[38;5;241m1\u001b[39m)\u001b[38;5;241m.\u001b[39mto(device)\n\u001b[1;32m     26\u001b[0m optimizer \u001b[38;5;241m=\u001b[39m optim\u001b[38;5;241m.\u001b[39mAdam(model\u001b[38;5;241m.\u001b[39mparameters(), lr\u001b[38;5;241m=\u001b[39m\u001b[38;5;241m1e-3\u001b[39m)\n\u001b[0;32m---> 28\u001b[0m \u001b[43mtrain\u001b[49m\u001b[43m(\u001b[49m\u001b[43mmodel\u001b[49m\u001b[43m,\u001b[49m\u001b[43m \u001b[49m\u001b[43mdataloader\u001b[49m\u001b[43m,\u001b[49m\u001b[43m \u001b[49m\u001b[43moptimizer\u001b[49m\u001b[43m,\u001b[49m\u001b[43m \u001b[49m\u001b[43mdevice\u001b[49m\u001b[43m,\u001b[49m\u001b[43m \u001b[49m\u001b[43mnum_timesteps\u001b[49m\u001b[38;5;241;43m=\u001b[39;49m\u001b[38;5;241;43m100\u001b[39;49m\u001b[43m,\u001b[49m\u001b[43m \u001b[49m\u001b[43mnum_epochs\u001b[49m\u001b[38;5;241;43m=\u001b[39;49m\u001b[38;5;241;43m10\u001b[39;49m\u001b[43m)\u001b[49m\n\u001b[1;32m     30\u001b[0m condition \u001b[38;5;241m=\u001b[39m torch\u001b[38;5;241m.\u001b[39mtensor([\u001b[38;5;241m1.0\u001b[39m], dtype\u001b[38;5;241m=\u001b[39mtorch\u001b[38;5;241m.\u001b[39mfloat32)\n\u001b[1;32m     31\u001b[0m samples \u001b[38;5;241m=\u001b[39m generate_samples(model, device, condition, num_samples\u001b[38;5;241m=\u001b[39m\u001b[38;5;241m1000\u001b[39m)\n",
      "Cell \u001b[0;32mIn[3], line 10\u001b[0m, in \u001b[0;36mtrain\u001b[0;34m(model, dataloader, optimizer, device, num_timesteps, num_epochs)\u001b[0m\n\u001b[1;32m      8\u001b[0m optimizer\u001b[38;5;241m.\u001b[39mzero_grad()\n\u001b[1;32m      9\u001b[0m t \u001b[38;5;241m=\u001b[39m torch\u001b[38;5;241m.\u001b[39mrandint(\u001b[38;5;241m0\u001b[39m, num_timesteps, (x\u001b[38;5;241m.\u001b[39msize(\u001b[38;5;241m0\u001b[39m),), device\u001b[38;5;241m=\u001b[39mdevice)\n\u001b[0;32m---> 10\u001b[0m noisy_x, noise \u001b[38;5;241m=\u001b[39m \u001b[43madd_noise\u001b[49m\u001b[43m(\u001b[49m\u001b[43mx\u001b[49m\u001b[43m,\u001b[49m\u001b[43m \u001b[49m\u001b[43mt\u001b[49m\u001b[43m,\u001b[49m\u001b[43m \u001b[49m\u001b[43mnum_timesteps\u001b[49m\u001b[43m)\u001b[49m\n\u001b[1;32m     11\u001b[0m pred_noise \u001b[38;5;241m=\u001b[39m model(noisy_x, condition)\n\u001b[1;32m     12\u001b[0m loss \u001b[38;5;241m=\u001b[39m nn\u001b[38;5;241m.\u001b[39mfunctional\u001b[38;5;241m.\u001b[39mmse_loss(pred_noise, noise)\n",
      "Cell \u001b[0;32mIn[2], line 17\u001b[0m, in \u001b[0;36madd_noise\u001b[0;34m(x, t, num_timesteps)\u001b[0m\n\u001b[1;32m     15\u001b[0m alpha \u001b[38;5;241m=\u001b[39m \u001b[38;5;241m1\u001b[39m \u001b[38;5;241m-\u001b[39m t \u001b[38;5;241m/\u001b[39m num_timesteps\n\u001b[1;32m     16\u001b[0m noise \u001b[38;5;241m=\u001b[39m torch\u001b[38;5;241m.\u001b[39mrandn_like(x)\n\u001b[0;32m---> 17\u001b[0m noisy_x \u001b[38;5;241m=\u001b[39m \u001b[43mtorch\u001b[49m\u001b[38;5;241;43m.\u001b[39;49m\u001b[43msqrt\u001b[49m\u001b[43m(\u001b[49m\u001b[43malpha\u001b[49m\u001b[43m)\u001b[49m\u001b[43m \u001b[49m\u001b[38;5;241;43m*\u001b[39;49m\u001b[43m \u001b[49m\u001b[43mx\u001b[49m \u001b[38;5;241m+\u001b[39m torch\u001b[38;5;241m.\u001b[39msqrt(\u001b[38;5;241m1\u001b[39m \u001b[38;5;241m-\u001b[39m alpha) \u001b[38;5;241m*\u001b[39m noise\n\u001b[1;32m     18\u001b[0m \u001b[38;5;28;01mreturn\u001b[39;00m noisy_x, noise\n",
      "\u001b[0;31mRuntimeError\u001b[0m: The size of tensor a (128) must match the size of tensor b (2) at non-singleton dimension 1"
     ]
    }
   ],
   "source": [
    "def generate_gmm_data(n_samples=1000, means=None, covariances=None):\n",
    "        np.random.seed(42)\n",
    "        if means is None:\n",
    "            means = [np.array([0, 0]), np.array([4, 4])]\n",
    "        if covariances is None:\n",
    "            covariances = [np.array([[1, 0], [0, 1]]), np.array([[2, 1], [1, 2]])]\n",
    "\n",
    "        X = []\n",
    "        labels = []\n",
    "        for i, (mean, cov) in enumerate(zip(means, covariances)):\n",
    "            samples = np.random.multivariate_normal(mean, cov, n_samples)\n",
    "            X.append(samples)\n",
    "            labels.extend([i] * n_samples)\n",
    "\n",
    "        X = np.vstack(X)\n",
    "        labels = np.array(labels)\n",
    "        return torch.tensor(X, dtype=torch.float32), torch.tensor(labels, dtype=torch.float32)\n",
    "\n",
    "device = torch.device(\"cuda\" if torch.cuda.is_available() else \"cpu\")\n",
    "\n",
    "X, labels = generate_gmm_data(n_samples=1000)\n",
    "dataset = torch.utils.data.TensorDataset(X, labels)\n",
    "dataloader = torch.utils.data.DataLoader(dataset, batch_size=128, shuffle=True)\n",
    "\n",
    "model = ConditionalDiffusionModel(input_dim=2, condition_dim=1).to(device)\n",
    "optimizer = optim.Adam(model.parameters(), lr=1e-3)\n",
    "\n",
    "train(model, dataloader, optimizer, device, num_timesteps=100, num_epochs=10)\n",
    "\n",
    "condition = torch.tensor([1.0], dtype=torch.float32)\n",
    "samples = generate_samples(model, device, condition, num_samples=1000)\n",
    "\n",
    "plt.figure(figsize=(10, 5))\n",
    "plt.scatter(samples[:, 0], samples[:, 1], s=5, alpha=0.5, label=\"Generated Samples\")\n",
    "plt.scatter(X[:, 0], X[:, 1], s=5, alpha=0.5, label=\"Original Data\")\n",
    "plt.legend()\n",
    "plt.title(\"Conditional Diffusion Model Generated Samples\")\n",
    "plt.show()"
   ]
  },
  {
   "cell_type": "code",
   "execution_count": null,
   "metadata": {},
   "outputs": [],
   "source": []
  }
 ],
 "metadata": {
  "kernelspec": {
   "display_name": "Python 3",
   "language": "python",
   "name": "python3"
  },
  "language_info": {
   "codemirror_mode": {
    "name": "ipython",
    "version": 3
   },
   "file_extension": ".py",
   "mimetype": "text/x-python",
   "name": "python",
   "nbconvert_exporter": "python",
   "pygments_lexer": "ipython3",
   "version": "3.10.11"
  }
 },
 "nbformat": 4,
 "nbformat_minor": 2
}
